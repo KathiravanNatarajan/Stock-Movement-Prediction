{
 "cells": [
  {
   "cell_type": "code",
   "execution_count": 10,
   "metadata": {},
   "outputs": [],
   "source": [
    "import numpy as np\n",
    "import pandas as pd\n",
    "from sklearn.manifold import TSNE"
   ]
  },
  {
   "cell_type": "code",
   "execution_count": 11,
   "metadata": {},
   "outputs": [
    {
     "data": {
      "text/html": [
       "<div>\n",
       "<style scoped>\n",
       "    .dataframe tbody tr th:only-of-type {\n",
       "        vertical-align: middle;\n",
       "    }\n",
       "\n",
       "    .dataframe tbody tr th {\n",
       "        vertical-align: top;\n",
       "    }\n",
       "\n",
       "    .dataframe thead th {\n",
       "        text-align: right;\n",
       "    }\n",
       "</style>\n",
       "<table border=\"1\" class=\"dataframe\">\n",
       "  <thead>\n",
       "    <tr style=\"text-align: right;\">\n",
       "      <th></th>\n",
       "      <th>Date</th>\n",
       "      <th>Open</th>\n",
       "      <th>High</th>\n",
       "      <th>Low</th>\n",
       "      <th>Close</th>\n",
       "      <th>Adj Close</th>\n",
       "      <th>Volume</th>\n",
       "    </tr>\n",
       "  </thead>\n",
       "  <tbody>\n",
       "    <tr>\n",
       "      <th>0</th>\n",
       "      <td>2010-05-11</td>\n",
       "      <td>17.080000</td>\n",
       "      <td>17.490000</td>\n",
       "      <td>16.969999</td>\n",
       "      <td>17.160000</td>\n",
       "      <td>15.332118</td>\n",
       "      <td>188202400</td>\n",
       "    </tr>\n",
       "    <tr>\n",
       "      <th>1</th>\n",
       "      <td>2010-05-12</td>\n",
       "      <td>17.270000</td>\n",
       "      <td>17.330000</td>\n",
       "      <td>16.990000</td>\n",
       "      <td>17.070000</td>\n",
       "      <td>15.251707</td>\n",
       "      <td>179359300</td>\n",
       "    </tr>\n",
       "    <tr>\n",
       "      <th>2</th>\n",
       "      <td>2010-05-13</td>\n",
       "      <td>17.030001</td>\n",
       "      <td>17.180000</td>\n",
       "      <td>16.850000</td>\n",
       "      <td>16.870001</td>\n",
       "      <td>15.073014</td>\n",
       "      <td>135257500</td>\n",
       "    </tr>\n",
       "    <tr>\n",
       "      <th>3</th>\n",
       "      <td>2010-05-14</td>\n",
       "      <td>16.709999</td>\n",
       "      <td>16.719999</td>\n",
       "      <td>16.120001</td>\n",
       "      <td>16.340000</td>\n",
       "      <td>14.599466</td>\n",
       "      <td>212906900</td>\n",
       "    </tr>\n",
       "    <tr>\n",
       "      <th>4</th>\n",
       "      <td>2010-05-17</td>\n",
       "      <td>16.389999</td>\n",
       "      <td>16.450001</td>\n",
       "      <td>15.850000</td>\n",
       "      <td>16.350000</td>\n",
       "      <td>14.608404</td>\n",
       "      <td>181966800</td>\n",
       "    </tr>\n",
       "  </tbody>\n",
       "</table>\n",
       "</div>"
      ],
      "text/plain": [
       "         Date       Open       High        Low      Close  Adj Close  \\\n",
       "0  2010-05-11  17.080000  17.490000  16.969999  17.160000  15.332118   \n",
       "1  2010-05-12  17.270000  17.330000  16.990000  17.070000  15.251707   \n",
       "2  2010-05-13  17.030001  17.180000  16.850000  16.870001  15.073014   \n",
       "3  2010-05-14  16.709999  16.719999  16.120001  16.340000  14.599466   \n",
       "4  2010-05-17  16.389999  16.450001  15.850000  16.350000  14.608404   \n",
       "\n",
       "      Volume  \n",
       "0  188202400  \n",
       "1  179359300  \n",
       "2  135257500  \n",
       "3  212906900  \n",
       "4  181966800  "
      ]
     },
     "execution_count": 11,
     "metadata": {},
     "output_type": "execute_result"
    }
   ],
   "source": [
    "df = pd.read_csv(\"BAC.csv\", parse_dates=True)\n",
    "df.head()"
   ]
  },
  {
   "cell_type": "code",
   "execution_count": 13,
   "metadata": {},
   "outputs": [
    {
     "data": {
      "text/html": [
       "<div>\n",
       "<style scoped>\n",
       "    .dataframe tbody tr th:only-of-type {\n",
       "        vertical-align: middle;\n",
       "    }\n",
       "\n",
       "    .dataframe tbody tr th {\n",
       "        vertical-align: top;\n",
       "    }\n",
       "\n",
       "    .dataframe thead th {\n",
       "        text-align: right;\n",
       "    }\n",
       "</style>\n",
       "<table border=\"1\" class=\"dataframe\">\n",
       "  <thead>\n",
       "    <tr style=\"text-align: right;\">\n",
       "      <th></th>\n",
       "      <th>Open</th>\n",
       "      <th>High</th>\n",
       "      <th>Low</th>\n",
       "      <th>Close</th>\n",
       "      <th>Adj Close</th>\n",
       "      <th>Volume</th>\n",
       "    </tr>\n",
       "  </thead>\n",
       "  <tbody>\n",
       "    <tr>\n",
       "      <th>0</th>\n",
       "      <td>17.080000</td>\n",
       "      <td>17.490000</td>\n",
       "      <td>16.969999</td>\n",
       "      <td>17.160000</td>\n",
       "      <td>15.332118</td>\n",
       "      <td>188202400</td>\n",
       "    </tr>\n",
       "    <tr>\n",
       "      <th>1</th>\n",
       "      <td>17.270000</td>\n",
       "      <td>17.330000</td>\n",
       "      <td>16.990000</td>\n",
       "      <td>17.070000</td>\n",
       "      <td>15.251707</td>\n",
       "      <td>179359300</td>\n",
       "    </tr>\n",
       "    <tr>\n",
       "      <th>2</th>\n",
       "      <td>17.030001</td>\n",
       "      <td>17.180000</td>\n",
       "      <td>16.850000</td>\n",
       "      <td>16.870001</td>\n",
       "      <td>15.073014</td>\n",
       "      <td>135257500</td>\n",
       "    </tr>\n",
       "    <tr>\n",
       "      <th>3</th>\n",
       "      <td>16.709999</td>\n",
       "      <td>16.719999</td>\n",
       "      <td>16.120001</td>\n",
       "      <td>16.340000</td>\n",
       "      <td>14.599466</td>\n",
       "      <td>212906900</td>\n",
       "    </tr>\n",
       "    <tr>\n",
       "      <th>4</th>\n",
       "      <td>16.389999</td>\n",
       "      <td>16.450001</td>\n",
       "      <td>15.850000</td>\n",
       "      <td>16.350000</td>\n",
       "      <td>14.608404</td>\n",
       "      <td>181966800</td>\n",
       "    </tr>\n",
       "  </tbody>\n",
       "</table>\n",
       "</div>"
      ],
      "text/plain": [
       "        Open       High        Low      Close  Adj Close     Volume\n",
       "0  17.080000  17.490000  16.969999  17.160000  15.332118  188202400\n",
       "1  17.270000  17.330000  16.990000  17.070000  15.251707  179359300\n",
       "2  17.030001  17.180000  16.850000  16.870001  15.073014  135257500\n",
       "3  16.709999  16.719999  16.120001  16.340000  14.599466  212906900\n",
       "4  16.389999  16.450001  15.850000  16.350000  14.608404  181966800"
      ]
     },
     "execution_count": 13,
     "metadata": {},
     "output_type": "execute_result"
    }
   ],
   "source": [
    "data = df.drop(\"Date\", axis=1)\n",
    "data.head()"
   ]
  },
  {
   "cell_type": "markdown",
   "metadata": {},
   "source": [
    "### Standard Scaler with 0 Mean and 1 standard deviation"
   ]
  },
  {
   "cell_type": "code",
   "execution_count": 18,
   "metadata": {},
   "outputs": [
    {
     "name": "stdout",
     "output_type": "stream",
     "text": [
      "StandardScaler(copy=True, with_mean=True, with_std=True)\n",
      "[[-0.15655659 -0.12705317 -0.14578222 -0.14507144 -0.23683014  0.89934761]\n",
      " [-0.13194309 -0.14763062 -0.14317488 -0.15672057 -0.24714678  0.79052642]\n",
      " [-0.16303369 -0.16692197 -0.16142535 -0.18260742 -0.27007287  0.24781965]\n",
      " ...\n",
      " [ 0.61034798  0.59187141  0.53991415  0.5266955   0.66355569 -0.7536599 ]\n",
      " [ 0.56630278  0.62916816  0.58945127  0.59011858  0.7264221  -0.77815208]\n",
      " [ 0.67123385  0.66132043  0.67288186  0.68460603  0.82008022 -0.86064137]]\n"
     ]
    }
   ],
   "source": [
    "from sklearn.preprocessing import StandardScaler\n",
    "scaler = StandardScaler()\n",
    "print(scaler.fit(data))\n",
    "\n",
    "scaler = scaler.transform(data)\n",
    "print(scaler)"
   ]
  },
  {
   "cell_type": "markdown",
   "metadata": {},
   "source": [
    "### t-distributed Stochastic Neighbor Embedding.\n",
    "\n",
    "t-SNE [1] is a tool to visualize high-dimensional data. It converts similarities between data points to joint probabilities and tries to minimize the Kullback-Leibler divergence between the joint probabilities of the low-dimensional embedding and the high-dimensional data. t-SNE has a cost function that is not convex, i.e. with different initializations we can get different results.\n",
    "\n",
    "It is highly recommended to use another dimensionality reduction method (e.g. PCA for dense data or TruncatedSVD for sparse data) to reduce the number of dimensions to a reasonable amount (e.g. 50) if the number of features is very high. This will suppress some noise and speed up the computation of pairwise distances between samples."
   ]
  },
  {
   "cell_type": "code",
   "execution_count": 24,
   "metadata": {},
   "outputs": [
    {
     "data": {
      "text/plain": [
       "(2517, 1)"
      ]
     },
     "execution_count": 24,
     "metadata": {},
     "output_type": "execute_result"
    }
   ],
   "source": [
    "X_embedded = TSNE(n_components=1).fit_transform(scaler)\n",
    "X_embedded.shape"
   ]
  },
  {
   "cell_type": "code",
   "execution_count": 25,
   "metadata": {},
   "outputs": [
    {
     "name": "stdout",
     "output_type": "stream",
     "text": [
      "(2517,)\n"
     ]
    }
   ],
   "source": [
    "y = np.arange(0,2517,1)\n",
    "print(y.shape)"
   ]
  },
  {
   "cell_type": "code",
   "execution_count": 26,
   "metadata": {},
   "outputs": [
    {
     "data": {
      "image/png": "[encoded data removed]",
      "text/plain": [
       "<Figure size 842.4x595.44 with 1 Axes>"
      ]
     },
     "metadata": {},
     "output_type": "display_data"
    }
   ],
   "source": [
    "from matplotlib import pyplot as plt\n",
    "import seaborn as sns\n",
    "sns.set(rc={'figure.figsize':(11.7,8.27)})\n",
    "palette = sns.color_palette(\"bright\", 10)\n",
    "plt.scatter(y, X_embedded)\n",
    "plt.show()"
   ]
  },
  {
   "cell_type": "code",
   "execution_count": null,
   "metadata": {},
   "outputs": [],
   "source": []
  }
 ],
 "metadata": {
  "kernelspec": {
   "display_name": "pystable",
   "language": "python",
   "name": "pystable"
  },
  "language_info": {
   "codemirror_mode": {
    "name": "ipython",
    "version": 3
   },
   "file_extension": ".py",
   "mimetype": "text/x-python",
   "name": "python",
   "nbconvert_exporter": "python",
   "pygments_lexer": "ipython3",
   "version": "3.6.10"
  }
 },
 "nbformat": 4,
 "nbformat_minor": 4
}
